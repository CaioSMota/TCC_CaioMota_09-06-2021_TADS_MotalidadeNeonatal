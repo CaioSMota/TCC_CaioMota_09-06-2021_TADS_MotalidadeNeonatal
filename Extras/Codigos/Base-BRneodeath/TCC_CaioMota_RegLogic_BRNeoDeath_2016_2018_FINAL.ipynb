{
  "nbformat": 4,
  "nbformat_minor": 5,
  "metadata": {
    "colab": {
      "name": "TCC_CaioMota_RegLogic_BRNeoDeath_2016_2018_FINAL.ipynb",
      "provenance": []
    },
    "kernelspec": {
      "display_name": "Python 3",
      "language": "python",
      "name": "python3"
    },
    "language_info": {
      "codemirror_mode": {
        "name": "ipython",
        "version": 3
      },
      "file_extension": ".py",
      "mimetype": "text/x-python",
      "name": "python",
      "nbconvert_exporter": "python",
      "pygments_lexer": "ipython3",
      "version": "3.9.2"
    }
  },
  "cells": [
    {
      "cell_type": "markdown",
      "metadata": {
        "id": "4Gbjq5BHlvey"
      },
      "source": [
        "**Implementação de modelo utilizando algoritmo de Regressão Logística**\n",
        "<br>\n",
        "<br>\n",
        "**Autor**: Caio Augusto de Souza Mota (*caiomota802@gmail.com*)\n",
        "\n",
        "Data: 09/06/2021\n",
        "\n",
        "**Revisor**: Carlos Eduardo Beluzo (*cbeluzo@gmail.com*)\n",
        "<br>\n",
        "<br>\n",
        "*Codigo adaptado de Baligh Mnassri disponivel em: https://www.kaggle.com/mnassrib/titanic-logistic-regression-with-python/notebook*\n",
        "\n",
        "---\n",
        "Este código é parte do Trabalho de Conclusão de Curso apresentado como exigência parcial para obtenção do diploma do Curso de Tecnologia em Análise e Desenvolvimento de Sistemas do Instituto Federal de Educação, Ciência e Tecnologia de São Paulo Câmpus Campinas.\n",
        "\n"
      ],
      "id": "4Gbjq5BHlvey"
    },
    {
      "cell_type": "markdown",
      "metadata": {
        "id": "average-vault"
      },
      "source": [
        "# 1. Importação de Bibliotecas, carga de dados e funções"
      ],
      "id": "average-vault"
    },
    {
      "cell_type": "code",
      "metadata": {
        "colab": {
          "base_uri": "https://localhost:8080/"
        },
        "id": "cardiac-bible",
        "outputId": "b90e4159-349f-4780-9b06-f16d18e5881a"
      },
      "source": [
        "# instalando o Synapse Client\n",
        "! pip install synapseclient"
      ],
      "id": "cardiac-bible",
      "execution_count": null,
      "outputs": [
        {
          "output_type": "stream",
          "text": [
            "Collecting synapseclient\n",
            "\u001b[?25l  Downloading https://files.pythonhosted.org/packages/24/30/ef2905d0d3261098a1398500b2e974f3e8268d6b533335eba8cc04ec7f60/synapseclient-2.3.1-py3-none-any.whl (205kB)\n",
            "\r\u001b[K     |█▋                              | 10kB 16.9MB/s eta 0:00:01\r\u001b[K     |███▏                            | 20kB 19.6MB/s eta 0:00:01\r\u001b[K     |████▊                           | 30kB 16.0MB/s eta 0:00:01\r\u001b[K     |██████▍                         | 40kB 13.6MB/s eta 0:00:01\r\u001b[K     |████████                        | 51kB 7.9MB/s eta 0:00:01\r\u001b[K     |█████████▌                      | 61kB 9.2MB/s eta 0:00:01\r\u001b[K     |███████████▏                    | 71kB 8.5MB/s eta 0:00:01\r\u001b[K     |████████████▊                   | 81kB 9.4MB/s eta 0:00:01\r\u001b[K     |██████████████▎                 | 92kB 8.8MB/s eta 0:00:01\r\u001b[K     |████████████████                | 102kB 7.6MB/s eta 0:00:01\r\u001b[K     |█████████████████▌              | 112kB 7.6MB/s eta 0:00:01\r\u001b[K     |███████████████████             | 122kB 7.6MB/s eta 0:00:01\r\u001b[K     |████████████████████▊           | 133kB 7.6MB/s eta 0:00:01\r\u001b[K     |██████████████████████▎         | 143kB 7.6MB/s eta 0:00:01\r\u001b[K     |███████████████████████▉        | 153kB 7.6MB/s eta 0:00:01\r\u001b[K     |█████████████████████████▌      | 163kB 7.6MB/s eta 0:00:01\r\u001b[K     |███████████████████████████     | 174kB 7.6MB/s eta 0:00:01\r\u001b[K     |████████████████████████████▋   | 184kB 7.6MB/s eta 0:00:01\r\u001b[K     |██████████████████████████████▎ | 194kB 7.6MB/s eta 0:00:01\r\u001b[K     |███████████████████████████████▉| 204kB 7.6MB/s eta 0:00:01\r\u001b[K     |████████████████████████████████| 215kB 7.6MB/s \n",
            "\u001b[?25hCollecting keyrings.alt==3.1; sys_platform == \"linux\"\n",
            "  Downloading https://files.pythonhosted.org/packages/f7/db/202fe99c9f6d75c7810cb3af7d791479df0dd942f2bac2425646c0ad3db8/keyrings.alt-3.1-py2.py3-none-any.whl\n",
            "Collecting deprecated<2.0,>=1.2.4\n",
            "  Downloading https://files.pythonhosted.org/packages/fb/73/994edfcba74443146c84b91921fcc269374354118d4f452fb0c54c1cbb12/Deprecated-1.2.12-py2.py3-none-any.whl\n",
            "Collecting keyring==12.0.2\n",
            "  Downloading https://files.pythonhosted.org/packages/ba/a0/a42643ba6f8417bdd22b186f1bb27bae3c0fd6be365eea0ffeb1c1d29051/keyring-12.0.2-py2.py3-none-any.whl\n",
            "Requirement already satisfied: requests<3.0,>=2.22.0 in /usr/local/lib/python3.7/dist-packages (from synapseclient) (2.23.0)\n",
            "Requirement already satisfied: six in /usr/local/lib/python3.7/dist-packages (from keyrings.alt==3.1; sys_platform == \"linux\"->synapseclient) (1.15.0)\n",
            "Requirement already satisfied: wrapt<2,>=1.10 in /usr/local/lib/python3.7/dist-packages (from deprecated<2.0,>=1.2.4->synapseclient) (1.12.1)\n",
            "Collecting secretstorage<3; sys_platform == \"linux2\" or sys_platform == \"linux\"\n",
            "  Downloading https://files.pythonhosted.org/packages/a5/a5/0830cfe34a4cfd0d1c3c8b614ede1edb2aaf999091ac8548dd19cb352e79/SecretStorage-2.3.1.tar.gz\n",
            "Requirement already satisfied: entrypoints in /usr/local/lib/python3.7/dist-packages (from keyring==12.0.2->synapseclient) (0.3)\n",
            "Requirement already satisfied: idna<3,>=2.5 in /usr/local/lib/python3.7/dist-packages (from requests<3.0,>=2.22.0->synapseclient) (2.10)\n",
            "Requirement already satisfied: urllib3!=1.25.0,!=1.25.1,<1.26,>=1.21.1 in /usr/local/lib/python3.7/dist-packages (from requests<3.0,>=2.22.0->synapseclient) (1.24.3)\n",
            "Requirement already satisfied: chardet<4,>=3.0.2 in /usr/local/lib/python3.7/dist-packages (from requests<3.0,>=2.22.0->synapseclient) (3.0.4)\n",
            "Requirement already satisfied: certifi>=2017.4.17 in /usr/local/lib/python3.7/dist-packages (from requests<3.0,>=2.22.0->synapseclient) (2021.5.30)\n",
            "Collecting cryptography\n",
            "\u001b[?25l  Downloading https://files.pythonhosted.org/packages/b2/26/7af637e6a7e87258b963f1731c5982fb31cd507f0d90d91836e446955d02/cryptography-3.4.7-cp36-abi3-manylinux2014_x86_64.whl (3.2MB)\n",
            "\u001b[K     |████████████████████████████████| 3.2MB 12.8MB/s \n",
            "\u001b[?25hRequirement already satisfied: cffi>=1.12 in /usr/local/lib/python3.7/dist-packages (from cryptography->secretstorage<3; sys_platform == \"linux2\" or sys_platform == \"linux\"->keyring==12.0.2->synapseclient) (1.14.5)\n",
            "Requirement already satisfied: pycparser in /usr/local/lib/python3.7/dist-packages (from cffi>=1.12->cryptography->secretstorage<3; sys_platform == \"linux2\" or sys_platform == \"linux\"->keyring==12.0.2->synapseclient) (2.20)\n",
            "Building wheels for collected packages: secretstorage\n",
            "  Building wheel for secretstorage (setup.py) ... \u001b[?25l\u001b[?25hdone\n",
            "  Created wheel for secretstorage: filename=SecretStorage-2.3.1-cp37-none-any.whl size=13970 sha256=42dc779eeff71c2f6d5051d74045eb6619f760c8a201b55cfde5d90807ddedcb\n",
            "  Stored in directory: /root/.cache/pip/wheels/4e/5b/1b/be8c8a830a0243af85b2946a0aece2c6743d7f7f946977ed67\n",
            "Successfully built secretstorage\n",
            "Installing collected packages: keyrings.alt, deprecated, cryptography, secretstorage, keyring, synapseclient\n",
            "Successfully installed cryptography-3.4.7 deprecated-1.2.12 keyring-12.0.2 keyrings.alt-3.1 secretstorage-2.3.1 synapseclient-2.3.1\n"
          ],
          "name": "stdout"
        }
      ]
    },
    {
      "cell_type": "code",
      "metadata": {
        "id": "crude-system"
      },
      "source": [
        "import os\n",
        "import synapseclient as syna\n",
        "from getpass import getpass\n",
        "\n",
        "import numpy as np\n",
        "from math import sqrt\n",
        "import pandas as pd \n",
        "\n",
        "from sklearn.linear_model import LogisticRegression\n",
        "from sklearn.model_selection import train_test_split, cross_val_score, cross_validate, cross_val_predict, GridSearchCV, StratifiedKFold\n",
        "from sklearn.feature_selection import RFE, RFECV\n",
        "from sklearn.metrics import roc_curve, plot_roc_curve, accuracy_score, auc, log_loss, confusion_matrix, classification_report\n",
        "\n",
        "import matplotlib.pyplot as plt \n",
        "plt.rc(\"font\", size=14)\n",
        "\n",
        "import seaborn as sns\n",
        "sns.set(style=\"white\") #white background style for seaborn plots\n",
        "sns.set(style=\"whitegrid\", color_codes=True)\n",
        "\n",
        "import warnings\n",
        "warnings.simplefilter(action='ignore')"
      ],
      "id": "crude-system",
      "execution_count": null,
      "outputs": []
    },
    {
      "cell_type": "markdown",
      "metadata": {
        "id": "wIvEqajrinzJ"
      },
      "source": [
        "#### Funções auxiliares"
      ],
      "id": "wIvEqajrinzJ"
    },
    {
      "cell_type": "code",
      "metadata": {
        "id": "5kNRZWv2hWBb"
      },
      "source": [
        "# Matrix de Confusão\n",
        "def my_cm(p_cm, p_acc):\n",
        "  plt.figure(figsize=(3,3))\n",
        "  sns.heatmap(p_cm, annot=True, fmt=\".0f\", linewidths=.9, square=True, cmap='Blues_r')\n",
        "  plt.ylabel('Valores reais')\n",
        "  plt.xlabel('Valores preditos')\n",
        "  plt.title('Acurácia: %2.3f' % p_acc, size=12)"
      ],
      "id": "5kNRZWv2hWBb",
      "execution_count": null,
      "outputs": []
    },
    {
      "cell_type": "markdown",
      "metadata": {
        "id": "central-cosmetic"
      },
      "source": [
        "## 1.1 Carregando base de dados disponível no Synapse"
      ],
      "id": "central-cosmetic"
    },
    {
      "cell_type": "code",
      "metadata": {
        "colab": {
          "base_uri": "https://localhost:8080/"
        },
        "id": "tough-madagascar",
        "outputId": "bb968798-6c44-47df-d412-14245444c688"
      },
      "source": [
        "# BRNeodeath\n",
        "# Recuperando a base de dados do repositório de dados Synapse\n",
        "syn = syna.Synapse() \n",
        "syn.login(input('Sybapse User: '), getpass('Passwd:')) \n",
        " \n",
        "# Obtendo um ponteiro e baixando os dados\n",
        "dataset = syn.get(entity='syn25575811') # ID do dataset BRNeodeath\n",
        "\n",
        "df_ori = pd.read_csv(dataset.path)"
      ],
      "id": "tough-madagascar",
      "execution_count": null,
      "outputs": [
        {
          "output_type": "stream",
          "text": [
            "Sybapse User: caiomota802@gmail.com\n",
            "Passwd:··········\n",
            "Welcome, Caio Mota!\n",
            "\n"
          ],
          "name": "stdout"
        }
      ]
    },
    {
      "cell_type": "markdown",
      "metadata": {
        "id": "confident-relaxation"
      },
      "source": [
        "## 1.2 Divisão da base em conjunto para treino e teste do modelo de ML"
      ],
      "id": "confident-relaxation"
    },
    {
      "cell_type": "code",
      "metadata": {
        "colab": {
          "base_uri": "https://localhost:8080/",
          "height": 275
        },
        "id": "eR2vqR5yt_KB",
        "outputId": "d9bf1246-fa7a-4c30-90a6-26e2a1c72947"
      },
      "source": [
        "df = df_ori.sample(frac=1)\n",
        "print(\"Shape:\", df.shape, \"\\n\")\n",
        "df.head()"
      ],
      "id": "eR2vqR5yt_KB",
      "execution_count": null,
      "outputs": [
        {
          "output_type": "stream",
          "text": [
            "Shape: (6760222, 29) \n",
            "\n"
          ],
          "name": "stdout"
        },
        {
          "output_type": "execute_result",
          "data": {
            "text/html": [
              "<div>\n",
              "<style scoped>\n",
              "    .dataframe tbody tr th:only-of-type {\n",
              "        vertical-align: middle;\n",
              "    }\n",
              "\n",
              "    .dataframe tbody tr th {\n",
              "        vertical-align: top;\n",
              "    }\n",
              "\n",
              "    .dataframe thead th {\n",
              "        text-align: right;\n",
              "    }\n",
              "</style>\n",
              "<table border=\"1\" class=\"dataframe\">\n",
              "  <thead>\n",
              "    <tr style=\"text-align: right;\">\n",
              "      <th></th>\n",
              "      <th>Unnamed: 0</th>\n",
              "      <th>maternal_age</th>\n",
              "      <th>tp_maternal_schooling</th>\n",
              "      <th>tp_marital_status</th>\n",
              "      <th>tp_maternal_race</th>\n",
              "      <th>num_live_births</th>\n",
              "      <th>num_fetal_losses</th>\n",
              "      <th>num_previous_gestations</th>\n",
              "      <th>num_normal_labors</th>\n",
              "      <th>num_cesarean_labor</th>\n",
              "      <th>tp_pregnancy</th>\n",
              "      <th>newborn_weight</th>\n",
              "      <th>gestaional_week</th>\n",
              "      <th>cd_apgar1</th>\n",
              "      <th>cd_apgar5</th>\n",
              "      <th>has_congenital_malformation</th>\n",
              "      <th>tp_newborn_presentation</th>\n",
              "      <th>num_prenatal_appointments</th>\n",
              "      <th>tp_labor</th>\n",
              "      <th>was_cesarean_before_labor</th>\n",
              "      <th>was_labor_induced</th>\n",
              "      <th>tp_childbirth_care</th>\n",
              "      <th>tp_robson_group</th>\n",
              "      <th>is_neonatal_death</th>\n",
              "      <th>birth_date</th>\n",
              "      <th>death_date</th>\n",
              "      <th>birth_year</th>\n",
              "      <th>uf</th>\n",
              "      <th>id</th>\n",
              "    </tr>\n",
              "  </thead>\n",
              "  <tbody>\n",
              "    <tr>\n",
              "      <th>6320935</th>\n",
              "      <td>6320935</td>\n",
              "      <td>27</td>\n",
              "      <td>5</td>\n",
              "      <td>1</td>\n",
              "      <td>1</td>\n",
              "      <td>0</td>\n",
              "      <td>0</td>\n",
              "      <td>0</td>\n",
              "      <td>0</td>\n",
              "      <td>0</td>\n",
              "      <td>1</td>\n",
              "      <td>3240</td>\n",
              "      <td>39</td>\n",
              "      <td>9</td>\n",
              "      <td>10</td>\n",
              "      <td>2</td>\n",
              "      <td>9</td>\n",
              "      <td>7</td>\n",
              "      <td>2</td>\n",
              "      <td>9</td>\n",
              "      <td>2</td>\n",
              "      <td>5</td>\n",
              "      <td>11</td>\n",
              "      <td>0</td>\n",
              "      <td>2016-10-18</td>\n",
              "      <td>NaN</td>\n",
              "      <td>2016</td>\n",
              "      <td>MG</td>\n",
              "      <td>13645713</td>\n",
              "    </tr>\n",
              "    <tr>\n",
              "      <th>4326756</th>\n",
              "      <td>4326756</td>\n",
              "      <td>35</td>\n",
              "      <td>1</td>\n",
              "      <td>1</td>\n",
              "      <td>5</td>\n",
              "      <td>2</td>\n",
              "      <td>0</td>\n",
              "      <td>2</td>\n",
              "      <td>2</td>\n",
              "      <td>0</td>\n",
              "      <td>1</td>\n",
              "      <td>3145</td>\n",
              "      <td>38</td>\n",
              "      <td>8</td>\n",
              "      <td>9</td>\n",
              "      <td>2</td>\n",
              "      <td>1</td>\n",
              "      <td>5</td>\n",
              "      <td>1</td>\n",
              "      <td>9</td>\n",
              "      <td>2</td>\n",
              "      <td>5</td>\n",
              "      <td>3</td>\n",
              "      <td>0</td>\n",
              "      <td>2015-11-29</td>\n",
              "      <td>NaN</td>\n",
              "      <td>2015</td>\n",
              "      <td>RS</td>\n",
              "      <td>25300049</td>\n",
              "    </tr>\n",
              "    <tr>\n",
              "      <th>1850457</th>\n",
              "      <td>1850457</td>\n",
              "      <td>24</td>\n",
              "      <td>4</td>\n",
              "      <td>5</td>\n",
              "      <td>4</td>\n",
              "      <td>2</td>\n",
              "      <td>0</td>\n",
              "      <td>2</td>\n",
              "      <td>1</td>\n",
              "      <td>1</td>\n",
              "      <td>1</td>\n",
              "      <td>817</td>\n",
              "      <td>32</td>\n",
              "      <td>5</td>\n",
              "      <td>8</td>\n",
              "      <td>2</td>\n",
              "      <td>1</td>\n",
              "      <td>5</td>\n",
              "      <td>1</td>\n",
              "      <td>9</td>\n",
              "      <td>2</td>\n",
              "      <td>2</td>\n",
              "      <td>10</td>\n",
              "      <td>0</td>\n",
              "      <td>2014-10-27</td>\n",
              "      <td>NaN</td>\n",
              "      <td>2014</td>\n",
              "      <td>MA</td>\n",
              "      <td>10749788</td>\n",
              "    </tr>\n",
              "    <tr>\n",
              "      <th>6519241</th>\n",
              "      <td>6519241</td>\n",
              "      <td>27</td>\n",
              "      <td>4</td>\n",
              "      <td>1</td>\n",
              "      <td>4</td>\n",
              "      <td>4</td>\n",
              "      <td>0</td>\n",
              "      <td>4</td>\n",
              "      <td>4</td>\n",
              "      <td>0</td>\n",
              "      <td>1</td>\n",
              "      <td>2950</td>\n",
              "      <td>37</td>\n",
              "      <td>9</td>\n",
              "      <td>10</td>\n",
              "      <td>2</td>\n",
              "      <td>1</td>\n",
              "      <td>1</td>\n",
              "      <td>1</td>\n",
              "      <td>3</td>\n",
              "      <td>2</td>\n",
              "      <td>1</td>\n",
              "      <td>3</td>\n",
              "      <td>0</td>\n",
              "      <td>2016-11-24</td>\n",
              "      <td>NaN</td>\n",
              "      <td>2016</td>\n",
              "      <td>RS</td>\n",
              "      <td>25516757</td>\n",
              "    </tr>\n",
              "    <tr>\n",
              "      <th>1232531</th>\n",
              "      <td>1232531</td>\n",
              "      <td>35</td>\n",
              "      <td>5</td>\n",
              "      <td>2</td>\n",
              "      <td>4</td>\n",
              "      <td>0</td>\n",
              "      <td>0</td>\n",
              "      <td>0</td>\n",
              "      <td>0</td>\n",
              "      <td>0</td>\n",
              "      <td>1</td>\n",
              "      <td>3255</td>\n",
              "      <td>37</td>\n",
              "      <td>9</td>\n",
              "      <td>10</td>\n",
              "      <td>2</td>\n",
              "      <td>1</td>\n",
              "      <td>15</td>\n",
              "      <td>2</td>\n",
              "      <td>2</td>\n",
              "      <td>2</td>\n",
              "      <td>5</td>\n",
              "      <td>1</td>\n",
              "      <td>0</td>\n",
              "      <td>2014-07-16</td>\n",
              "      <td>NaN</td>\n",
              "      <td>2014</td>\n",
              "      <td>SP</td>\n",
              "      <td>650249</td>\n",
              "    </tr>\n",
              "  </tbody>\n",
              "</table>\n",
              "</div>"
            ],
            "text/plain": [
              "         Unnamed: 0  maternal_age  ...  uf        id\n",
              "6320935     6320935            27  ...  MG  13645713\n",
              "4326756     4326756            35  ...  RS  25300049\n",
              "1850457     1850457            24  ...  MA  10749788\n",
              "6519241     6519241            27  ...  RS  25516757\n",
              "1232531     1232531            35  ...  SP    650249\n",
              "\n",
              "[5 rows x 29 columns]"
            ]
          },
          "metadata": {
            "tags": []
          },
          "execution_count": 5
        }
      ]
    },
    {
      "cell_type": "code",
      "metadata": {
        "id": "opened-august"
      },
      "source": [
        "# Todas as \"Features\" da base de dados\n",
        "features = ['maternal_age', 'tp_maternal_schooling', 'tp_marital_status',\n",
        "               'tp_maternal_race', 'num_live_births','num_fetal_losses',\n",
        "               'num_previous_gestations', 'num_normal_labors', 'num_cesarean_labor',\n",
        "               'tp_pregnancy', 'newborn_weight', 'gestaional_week',\n",
        "               'cd_apgar1', 'cd_apgar5', 'has_congenital_malformation',\n",
        "               'tp_newborn_presentation', 'num_prenatal_appointments', 'tp_labor',\n",
        "               'was_cesarean_before_labor', 'was_labor_induced', 'tp_childbirth_care',\n",
        "               'tp_robson_group']\n",
        "\n",
        "target = ['is_neonatal_death']\n",
        "\n",
        "# Separação das features e do \"target\" para serem usados no modelo posteriormente\n",
        "xArray =  df[features]\n",
        "yArray =  df[target]\n",
        "\n",
        "# \"Split\" do dataset para Treino e Teste do modelo usando 90% para o treino e 10% para teste\n",
        "xTreino, xTeste, yTreino, yTeste = train_test_split(xArray, yArray, test_size=0.1 ,random_state=42)"
      ],
      "id": "opened-august",
      "execution_count": null,
      "outputs": []
    },
    {
      "cell_type": "code",
      "metadata": {
        "colab": {
          "base_uri": "https://localhost:8080/"
        },
        "id": "SiZv8DnWPtWa",
        "outputId": "c82223a6-bad2-4784-f693-d4cf62da7fd0"
      },
      "source": [
        "print(xTreino.shape)\n",
        "print(xTeste.shape)\n",
        "print(yTreino.shape)\n",
        "print(yTeste.shape)"
      ],
      "id": "SiZv8DnWPtWa",
      "execution_count": null,
      "outputs": [
        {
          "output_type": "stream",
          "text": [
            "(6084199, 22)\n",
            "(676023, 22)\n",
            "(6084199, 1)\n",
            "(676023, 1)\n"
          ],
          "name": "stdout"
        }
      ]
    },
    {
      "cell_type": "markdown",
      "metadata": {
        "id": "czech-david"
      },
      "source": [
        "# 2. Aplicação de modelos de Machine Learning: Logistic Regression\n",
        "\n",
        "---\n",
        "\n"
      ],
      "id": "czech-david"
    },
    {
      "cell_type": "markdown",
      "metadata": {
        "id": "LvglhSs9Wd53"
      },
      "source": [
        "## Usando particionamento 90/10"
      ],
      "id": "LvglhSs9Wd53"
    },
    {
      "cell_type": "code",
      "metadata": {
        "colab": {
          "base_uri": "https://localhost:8080/"
        },
        "id": "polar-programmer",
        "outputId": "84f8404d-27e6-4345-e16f-ffce765ffeb1"
      },
      "source": [
        "logreg = LogisticRegression()\n",
        "\n",
        "logreg.fit(xTreino, yTreino)\n",
        "y_pred = logreg.predict(xTeste)\n",
        "y_pred_proba = logreg.predict_proba(xTeste)[:, 1]\n",
        "\n",
        "[fpr, tpr, thr] = roc_curve(yTeste, y_pred_proba)\n",
        "\n",
        "print('Treino/Teste resultados divididos %s:' % logreg.__class__.__name__)\n",
        "print(\"Accuracy is %2.3f\" % accuracy_score(yTeste, y_pred))\n",
        "print(\"Log_loss is %2.3f\" % log_loss(yTeste, y_pred_proba))\n",
        "print(\"AUC is %2.3f\" % auc(fpr, tpr))"
      ],
      "id": "polar-programmer",
      "execution_count": null,
      "outputs": [
        {
          "output_type": "stream",
          "text": [
            "Treino/Teste resultados divididos LogisticRegression:\n",
            "Accuracy is 0.995\n",
            "Log_loss is 0.021\n",
            "AUC is 0.935\n"
          ],
          "name": "stdout"
        }
      ]
    },
    {
      "cell_type": "markdown",
      "metadata": {
        "id": "f78EemAxfLE4"
      },
      "source": [
        "#### Curva ROC"
      ],
      "id": "f78EemAxfLE4"
    },
    {
      "cell_type": "code",
      "metadata": {
        "colab": {
          "base_uri": "https://localhost:8080/",
          "height": 336
        },
        "id": "fdeIt5-xfJpr",
        "outputId": "39c1667c-b318-4324-fe48-a5ede56957be"
      },
      "source": [
        "idx = np.min(np.where(tpr > 0.95)) \n",
        "\n",
        "plt.figure()\n",
        "plt.plot(fpr, tpr, color='coral', label='Curva ROC (area = %0.3f)' % auc(fpr, tpr))\n",
        "plt.plot([0, 1], [0, 1], 'k--')\n",
        "plt.plot([0,fpr[idx]], [tpr[idx],tpr[idx]], 'k--', color='blue')\n",
        "plt.plot([fpr[idx],fpr[idx]], [0,tpr[idx]], 'k--', color='blue')\n",
        "plt.xlim([0.0, 1.0])\n",
        "plt.ylim([0.0, 1.05])\n",
        "plt.xlabel('Taxa de falso positivo (1 - especificidade)', fontsize=14)\n",
        "plt.ylabel('Taxa de verdadeiro positivo (recall)', fontsize=14)\n",
        "plt.title('Curva de característica de operação do receptor (ROC)')\n",
        "plt.legend(loc=\"lower right\")\n",
        "plt.show()\n",
        "\n",
        "plt.savefig('ROC_90_10.png', dpi=300)\n",
        "\n",
        "print(\"Usando um limite de %.3f \" % thr[idx] + \"garante uma sensibilidade de %.3f \" % tpr[idx] +  \n",
        "      \"e uma especificidade de %.3f\" % (1-fpr[idx]) + \n",
        "      \", ou seja, uma taxa de falsos positivos de %.2f%%.\" % (np.array(fpr[idx])*100))"
      ],
      "id": "fdeIt5-xfJpr",
      "execution_count": null,
      "outputs": [
        {
          "output_type": "display_data",
          "data": {
            "image/png": "[encoded data removed]",
            "text/plain": [
              "<Figure size 432x288 with 1 Axes>"
            ]
          },
          "metadata": {
            "tags": []
          }
        },
        {
          "output_type": "stream",
          "text": [
            "Usando um limite de 0.001 garante uma sensibilidade de 0.950 e uma especificidade de 0.563, ou seja, uma taxa de falsos positivos de 43.66%.\n"
          ],
          "name": "stdout"
        },
        {
          "output_type": "display_data",
          "data": {
            "text/plain": [
              "<Figure size 432x288 with 0 Axes>"
            ]
          },
          "metadata": {
            "tags": []
          }
        }
      ]
    },
    {
      "cell_type": "markdown",
      "metadata": {
        "id": "QEiZBQ41fRQy"
      },
      "source": [
        "#### Matrix de Confusão"
      ],
      "id": "QEiZBQ41fRQy"
    },
    {
      "cell_type": "code",
      "metadata": {
        "colab": {
          "base_uri": "https://localhost:8080/",
          "height": 217
        },
        "id": "GopeDRjZX7Rz",
        "outputId": "c60129cd-2130-4537-c438-6c2b02d655dd"
      },
      "source": [
        "acc = accuracy_score(yTeste, y_pred)\n",
        "my_cm(confusion_matrix(yTeste, y_pred), acc)\n",
        "plt.savefig('CM_90_10.png', dpi=300)"
      ],
      "id": "GopeDRjZX7Rz",
      "execution_count": null,
      "outputs": [
        {
          "output_type": "display_data",
          "data": {
            "image/png": "[encoded data removed]",
            "text/plain": [
              "<Figure size 216x216 with 2 Axes>"
            ]
          },
          "metadata": {
            "tags": []
          }
        }
      ]
    },
    {
      "cell_type": "markdown",
      "metadata": {
        "id": "NNjgrGLzfWt8"
      },
      "source": [
        "#### Relatório de Classificação"
      ],
      "id": "NNjgrGLzfWt8"
    },
    {
      "cell_type": "code",
      "metadata": {
        "colab": {
          "base_uri": "https://localhost:8080/"
        },
        "id": "x7KdmSE9jlit",
        "outputId": "9481d5e0-e666-4ffd-bca9-32722b68b701"
      },
      "source": [
        "print(classification_report(yTeste, y_pred))\n",
        "report = classification_report(yTeste, y_pred, output_dict=True)\n",
        "round(pd.DataFrame(report).transpose(),2).to_csv('ClassRep_90_10.csv')"
      ],
      "id": "x7KdmSE9jlit",
      "execution_count": null,
      "outputs": [
        {
          "output_type": "stream",
          "text": [
            "              precision    recall  f1-score   support\n",
            "\n",
            "           0       1.00      1.00      1.00    671939\n",
            "           1       0.64      0.22      0.33      4084\n",
            "\n",
            "    accuracy                           0.99    676023\n",
            "   macro avg       0.82      0.61      0.66    676023\n",
            "weighted avg       0.99      0.99      0.99    676023\n",
            "\n"
          ],
          "name": "stdout"
        }
      ]
    },
    {
      "cell_type": "markdown",
      "metadata": {
        "id": "O92Prtb9aQMz"
      },
      "source": [
        "## Cross validation com k = 10\n",
        "\n",
        "**No Trabalho incluir apenas o relatório de classificação para comparar com o resultado sem cross-validation, não precisar incluir matrix de conf.**"
      ],
      "id": "O92Prtb9aQMz"
    },
    {
      "cell_type": "code",
      "metadata": {
        "colab": {
          "base_uri": "https://localhost:8080/"
        },
        "id": "9OU89RTbOXrq",
        "outputId": "3bd533a2-af81-4d20-9655-2d47a79976f3"
      },
      "source": [
        "# Regressão logística de validação cruzada de 10 vezes \n",
        "logreg = LogisticRegression()\n",
        "scoring = {'accuracy': 'accuracy', 'log_loss': 'neg_log_loss', 'auc': 'roc_auc'}\n",
        "\n",
        "modelo_KFold = cross_validate(logreg, xArray, yArray, cv=10, \n",
        "                         scoring=list(scoring.values()), \n",
        "                         return_train_score=False)\n",
        "\n",
        "print('K-fold cross-validation results:')\n",
        "for sc in range(len(scoring)):\n",
        "    print(\"%s: %.3f (+/-%.3f)\" % (list(scoring.keys())[sc], -modelo_KFold['test_%s' % list(scoring.values())[sc]].mean()\n",
        "                               if list(scoring.values())[sc]=='neg_log_loss' \n",
        "                               else modelo_KFold['test_%s' % list(scoring.values())[sc]].mean(), \n",
        "                               modelo_KFold['test_%s' % list(scoring.values())[sc]].std()))"
      ],
      "id": "9OU89RTbOXrq",
      "execution_count": null,
      "outputs": [
        {
          "output_type": "stream",
          "text": [
            "K-fold cross-validation results:\n",
            "accuracy: 0.995 (+/-0.000)\n",
            "log_loss: 0.021 (+/-0.000)\n",
            "auc: 0.934 (+/-0.003)\n"
          ],
          "name": "stdout"
        }
      ]
    },
    {
      "cell_type": "markdown",
      "metadata": {
        "id": "dugmVpZLea_W"
      },
      "source": [
        "#### CURVA ROC para CROSS VALIDATION"
      ],
      "id": "dugmVpZLea_W"
    },
    {
      "cell_type": "code",
      "metadata": {
        "colab": {
          "base_uri": "https://localhost:8080/",
          "height": 644
        },
        "id": "O-0K5Xo6m8tn",
        "outputId": "cbac4822-aa7e-4a61-a234-6508846f8a39"
      },
      "source": [
        "#https://scikit-learn.org/stable/auto_examples/model_selection/plot_roc_crossval.html\n",
        "X = xArray.copy()\n",
        "y = yArray.copy()\n",
        "\n",
        "X.reset_index(inplace=True)\n",
        "X.drop(columns={'index'}, inplace=True)\n",
        "\n",
        "y.reset_index(inplace=True)\n",
        "y.drop(columns={'index'}, inplace=True)\n",
        "\n",
        "n_samples, n_features = X.shape\n",
        "\n",
        "# #############################################################################\n",
        "# Classification and ROC analysis\n",
        "\n",
        "# Run classifier with cross-validation and plot ROC curves\n",
        "cv = StratifiedKFold(n_splits=10)\n",
        "classifier = LogisticRegression()\n",
        "\n",
        "tprs = []\n",
        "aucs = []\n",
        "mean_fpr = np.linspace(0, 1, 100)\n",
        "\n",
        "fig, ax = plt.subplots()\n",
        "fig.set_figwidth(10)\n",
        "fig.set_figheight(10)\n",
        "\n",
        "for i, (train, test) in enumerate(cv.split(X, y)):\n",
        "    classifier.fit(X[X.index.isin(train)], y[y.index.isin(train)])\n",
        "    viz = plot_roc_curve(classifier, X[X.index.isin(test)], y[y.index.isin(test)],\n",
        "                         name='ROC fold {}'.format(i),\n",
        "                         alpha=0.3, lw=1, ax=ax)\n",
        "    interp_tpr = np.interp(mean_fpr, viz.fpr, viz.tpr)\n",
        "    interp_tpr[0] = 0.0\n",
        "    tprs.append(interp_tpr)\n",
        "    aucs.append(viz.roc_auc)\n",
        "\n",
        "ax.plot([0, 1], [0, 1], linestyle='--', lw=2, color='r',\n",
        "        label='Chance', alpha=.8)\n",
        "\n",
        "mean_tpr = np.mean(tprs, axis=0)\n",
        "mean_tpr[-1] = 1.0\n",
        "mean_auc = auc(mean_fpr, mean_tpr)\n",
        "std_auc = np.std(aucs)\n",
        "ax.plot(mean_fpr, mean_tpr, color='b',\n",
        "        label=r'Mean ROC (AUC = %0.2f $\\pm$ %0.2f)' % (mean_auc, std_auc),\n",
        "        lw=2, alpha=.8)\n",
        "\n",
        "std_tpr = np.std(tprs, axis=0)\n",
        "tprs_upper = np.minimum(mean_tpr + std_tpr, 1)\n",
        "tprs_lower = np.maximum(mean_tpr - std_tpr, 0)\n",
        "ax.fill_between(mean_fpr, tprs_lower, tprs_upper, color='grey', alpha=.2,\n",
        "                label=r'$\\pm$ 1 std. dev.')\n",
        "\n",
        "ax.set(xlim=[-0.05, 1.05], ylim=[-0.05, 1.05],\n",
        "       title=\"Receiver operating characteristic example\")\n",
        "ax.legend(loc=\"lower right\")\n",
        "plt.show()\n",
        "\n",
        "plt.savefig('ROC_KFold_10.png', dpi=300)"
      ],
      "id": "O-0K5Xo6m8tn",
      "execution_count": null,
      "outputs": [
        {
          "output_type": "display_data",
          "data": {
            "image/png": "[encoded data removed]",
            "text/plain": [
              "<Figure size 720x720 with 1 Axes>"
            ]
          },
          "metadata": {
            "tags": []
          }
        },
        {
          "output_type": "display_data",
          "data": {
            "text/plain": [
              "<Figure size 432x288 with 0 Axes>"
            ]
          },
          "metadata": {
            "tags": []
          }
        }
      ]
    },
    {
      "cell_type": "markdown",
      "metadata": {
        "id": "v1Ff3j5UhfLK"
      },
      "source": [
        "#### Matrix de Confusão"
      ],
      "id": "v1Ff3j5UhfLK"
    },
    {
      "cell_type": "code",
      "metadata": {
        "colab": {
          "base_uri": "https://localhost:8080/",
          "height": 227
        },
        "id": "acquired-editor",
        "outputId": "cb6f1635-2f71-40dd-eaa0-33f5ae5e000a"
      },
      "source": [
        "y_pred = cross_val_predict(logreg, xArray, yArray, cv=10)\n",
        "acc = modelo_KFold['test_accuracy'].mean()\n",
        "my_cm(confusion_matrix(yArray, y_pred), acc)\n",
        "plt.savefig('CM_KFold.png', dpi=300)"
      ],
      "id": "acquired-editor",
      "execution_count": null,
      "outputs": [
        {
          "output_type": "display_data",
          "data": {
            "image/png": "[encoded data removed]",
            "text/plain": [
              "<Figure size 216x216 with 2 Axes>"
            ]
          },
          "metadata": {
            "tags": []
          }
        }
      ]
    },
    {
      "cell_type": "markdown",
      "metadata": {
        "id": "hnlEkdkKhhbq"
      },
      "source": [
        "#### Relatório de Classificação"
      ],
      "id": "hnlEkdkKhhbq"
    },
    {
      "cell_type": "code",
      "metadata": {
        "colab": {
          "base_uri": "https://localhost:8080/"
        },
        "id": "AalvtVaTdAnL",
        "outputId": "070fb6b5-1200-41a6-9007-2cb12f5a0924"
      },
      "source": [
        "print(classification_report(yArray, y_pred))\n",
        "report = classification_report(yArray, y_pred, output_dict=True)\n",
        "round(pd.DataFrame(report).transpose(),2).to_csv('ClassRep_KFold.csv')"
      ],
      "id": "AalvtVaTdAnL",
      "execution_count": null,
      "outputs": [
        {
          "output_type": "stream",
          "text": [
            "              precision    recall  f1-score   support\n",
            "\n",
            "           0       1.00      1.00      1.00   6719191\n",
            "           1       0.64      0.24      0.35     41031\n",
            "\n",
            "    accuracy                           0.99   6760222\n",
            "   macro avg       0.82      0.62      0.67   6760222\n",
            "weighted avg       0.99      0.99      0.99   6760222\n",
            "\n"
          ],
          "name": "stdout"
        }
      ]
    },
    {
      "cell_type": "markdown",
      "metadata": {
        "id": "djRG6j4fLWLf"
      },
      "source": [
        "## RFE (Eliminação recursiva de features)"
      ],
      "id": "djRG6j4fLWLf"
    },
    {
      "cell_type": "markdown",
      "metadata": {
        "id": "competitive-capacity"
      },
      "source": [
        "A ideia da eliminação recursiva de feature (RFE) é selecionar features considerando recursivamente conjuntos cada vez menores de features, isso ocorre da seguinte forma. Primeiro, o estimador é treinado no conjunto inicial de features e a importância de cada feature é obtida por meio de um atributo \"coef_\" ou por meio de um atributo \"feature_importances_\". Em seguida, os features menos importantes são removidos do conjunto atual de features. Esse procedimento é repetido recursivamente no conjunto removido até que o número desejado de features a serem selecionados seja finalmente alcançado."
      ],
      "id": "competitive-capacity"
    },
    {
      "cell_type": "markdown",
      "metadata": {
        "id": "4sawrpr0RhcC"
      },
      "source": [
        "### Criando um modelo com número de features otimizado usando RFECV\n",
        "\n",
        "RFECV executa RFE em um loop de validação cruzada para encontrar o número ideal ou o melhor número de features. No codigo abaixo temos uma eliminação de feature recursiva aplicada na regressão logística com ajuste automático do número de features selecionados com validação cruzada.\n"
      ],
      "id": "4sawrpr0RhcC"
    },
    {
      "cell_type": "markdown",
      "metadata": {
        "id": "collaborative-support"
      },
      "source": [
        "Como resultado o codigo trouxe 6 features que é o numero ideia de features para o modelo e trouxe também as melhores features sendo elas:\n",
        "\n",
        "- 'tp_maternal_schooling'\n",
        "- 'gestaional_week' \n",
        "- 'cd_apgar1' \n",
        "- 'cd_apgar5' \n",
        "- 'has_congenital_malformation'\n",
        "- 'tp_labor'"
      ],
      "id": "collaborative-support"
    },
    {
      "cell_type": "code",
      "metadata": {
        "id": "faced-grammar"
      },
      "source": [
        "# Crie o objeto RFE e calcule uma pontuação com validação cruzada.\n",
        "# A pontuação de \"precisão\" é proporcional ao número de classificações corretas\n",
        "rfecv = RFECV(estimator=LogisticRegression(), step=1, cv=10, scoring='accuracy')\n",
        "rfecv.fit(xArray, yArray)\n",
        "\n",
        "print(\"Número ideal de Features: %d\" % rfecv.n_features_)\n",
        "print('Features Selecionadas: %s' % list(xArray.columns[rfecv.support_]))\n",
        "\n",
        "# Número do lote das Features VS. pontuações de validação cruzada\n",
        "plt.figure(figsize=(7,5))\n",
        "plt.xlabel(\"Número de Features selecionadas\")\n",
        "plt.ylabel(\"Pontuação de validação cruzada (nb de classificações corretas)\")\n",
        "plt.plot(range(1, len(rfecv.grid_scores_) + 1), rfecv.grid_scores_)\n",
        "plt.show()"
      ],
      "id": "faced-grammar",
      "execution_count": null,
      "outputs": []
    },
    {
      "cell_type": "markdown",
      "metadata": {
        "id": "2wI9Ag_dVjzd"
      },
      "source": [
        "## Modelo Final: Usar apenas variáveis selecionadas e aplicar o GridSearchCV\n",
        "\n",
        "No RFECV vc esta esclhendo mehlores features de sua base, no gridSearch vc esta escolhendo parametros do algorítmo."
      ],
      "id": "2wI9Ag_dVjzd"
    },
    {
      "cell_type": "code",
      "metadata": {
        "colab": {
          "base_uri": "https://localhost:8080/",
          "height": 195
        },
        "id": "fpz8-9ZmWHwT",
        "outputId": "05a75082-e757-47b6-aba1-ce7ae4f9696e"
      },
      "source": [
        "xArray_RFE = xArray[list(xArray.columns[rfecv.support_])]\n",
        "xArray_RFE.head()"
      ],
      "id": "fpz8-9ZmWHwT",
      "execution_count": null,
      "outputs": [
        {
          "output_type": "execute_result",
          "data": {
            "text/html": [
              "<div>\n",
              "<style scoped>\n",
              "    .dataframe tbody tr th:only-of-type {\n",
              "        vertical-align: middle;\n",
              "    }\n",
              "\n",
              "    .dataframe tbody tr th {\n",
              "        vertical-align: top;\n",
              "    }\n",
              "\n",
              "    .dataframe thead th {\n",
              "        text-align: right;\n",
              "    }\n",
              "</style>\n",
              "<table border=\"1\" class=\"dataframe\">\n",
              "  <thead>\n",
              "    <tr style=\"text-align: right;\">\n",
              "      <th></th>\n",
              "      <th>tp_maternal_schooling</th>\n",
              "      <th>gestaional_week</th>\n",
              "      <th>cd_apgar1</th>\n",
              "      <th>cd_apgar5</th>\n",
              "      <th>has_congenital_malformation</th>\n",
              "      <th>tp_labor</th>\n",
              "    </tr>\n",
              "  </thead>\n",
              "  <tbody>\n",
              "    <tr>\n",
              "      <th>6320935</th>\n",
              "      <td>5</td>\n",
              "      <td>39</td>\n",
              "      <td>9</td>\n",
              "      <td>10</td>\n",
              "      <td>2</td>\n",
              "      <td>2</td>\n",
              "    </tr>\n",
              "    <tr>\n",
              "      <th>4326756</th>\n",
              "      <td>1</td>\n",
              "      <td>38</td>\n",
              "      <td>8</td>\n",
              "      <td>9</td>\n",
              "      <td>2</td>\n",
              "      <td>1</td>\n",
              "    </tr>\n",
              "    <tr>\n",
              "      <th>1850457</th>\n",
              "      <td>4</td>\n",
              "      <td>32</td>\n",
              "      <td>5</td>\n",
              "      <td>8</td>\n",
              "      <td>2</td>\n",
              "      <td>1</td>\n",
              "    </tr>\n",
              "    <tr>\n",
              "      <th>6519241</th>\n",
              "      <td>4</td>\n",
              "      <td>37</td>\n",
              "      <td>9</td>\n",
              "      <td>10</td>\n",
              "      <td>2</td>\n",
              "      <td>1</td>\n",
              "    </tr>\n",
              "    <tr>\n",
              "      <th>1232531</th>\n",
              "      <td>5</td>\n",
              "      <td>37</td>\n",
              "      <td>9</td>\n",
              "      <td>10</td>\n",
              "      <td>2</td>\n",
              "      <td>2</td>\n",
              "    </tr>\n",
              "  </tbody>\n",
              "</table>\n",
              "</div>"
            ],
            "text/plain": [
              "         tp_maternal_schooling  ...  tp_labor\n",
              "6320935                      5  ...         2\n",
              "4326756                      1  ...         1\n",
              "1850457                      4  ...         1\n",
              "6519241                      4  ...         1\n",
              "1232531                      5  ...         2\n",
              "\n",
              "[5 rows x 6 columns]"
            ]
          },
          "metadata": {
            "tags": []
          },
          "execution_count": 9
        }
      ]
    },
    {
      "cell_type": "code",
      "metadata": {
        "id": "seeing-ireland",
        "colab": {
          "base_uri": "https://localhost:8080/",
          "height": 508
        },
        "outputId": "557ec170-bf30-45f9-d8fb-6f60d8076e84"
      },
      "source": [
        "param_grid = {'C': np.arange(1e-05, 3, 0.1)}\n",
        "scoring = {'Accuracy': 'accuracy', 'AUC': 'roc_auc', 'Log_loss': 'neg_log_loss'}\n",
        "\n",
        "gs = GridSearchCV(LogisticRegression(), return_train_score=True,\n",
        "                  param_grid=param_grid, scoring=scoring, cv=10, refit='Accuracy')\n",
        "\n",
        "gs.fit(xArray_RFE, yArray)\n",
        "results = gs.cv_results_\n",
        "\n",
        "print('='*20)\n",
        "print(\"Best params: \" + str(gs.best_estimator_))\n",
        "print(\"Best params: \" + str(gs.best_params_))\n",
        "print('Best score:', gs.best_score_)\n",
        "print('='*20)\n",
        "\n",
        "plt.figure(figsize=(10, 5))\n",
        "plt.title(\"GridSearchCV evaluating using multiple scorers simultaneously\",fontsize=16)\n",
        "\n",
        "plt.xlabel(\"Inverse of regularization strength: C\")\n",
        "plt.ylabel(\"Score\")\n",
        "plt.grid()\n",
        "\n",
        "ax = plt.axes()\n",
        "ax.set_xlim(0, param_grid['C'].max()) \n",
        "ax.set_ylim(0.0, 1.2)\n",
        "\n",
        "X_axis = np.array(results['param_C'].data, dtype=float)\n",
        "\n",
        "for scorer, color in zip(list(scoring.keys()), ['g', 'k', 'b']): \n",
        "    for sample, style in (('train', '--'), ('test', '-')):\n",
        "        sample_score_mean = -results['mean_%s_%s' % (sample, scorer)] if scoring[scorer]=='neg_log_loss' else results['mean_%s_%s' % (sample, scorer)]\n",
        "        sample_score_std = results['std_%s_%s' % (sample, scorer)]\n",
        "        ax.fill_between(X_axis, sample_score_mean - sample_score_std,\n",
        "                        sample_score_mean + sample_score_std,\n",
        "                        alpha=0.1 if sample == 'test' else 0, color=color)\n",
        "        ax.plot(X_axis, sample_score_mean, style, color=color,\n",
        "                alpha=1 if sample == 'test' else 0.7,\n",
        "                label=\"%s (%s)\" % (scorer, sample))\n",
        "\n",
        "    best_index = np.nonzero(results['rank_test_%s' % scorer] == 1)[0][0]\n",
        "    best_score = -results['mean_test_%s' % scorer][best_index] if scoring[scorer]=='neg_log_loss' else results['mean_test_%s' % scorer][best_index]\n",
        " \n",
        "    ax.plot([X_axis[best_index], ] * 2, [0, best_score],\n",
        "            linestyle='-.', color=color, marker='x', markeredgewidth=3, ms=8)\n",
        "\n",
        "    ax.annotate(\"%0.2f\" % best_score,\n",
        "                (X_axis[best_index], best_score + 0.005))\n",
        "\n",
        "plt.legend(loc=\"best\")\n",
        "plt.grid('off')\n",
        "plt.show()"
      ],
      "id": "seeing-ireland",
      "execution_count": null,
      "outputs": [
        {
          "output_type": "stream",
          "text": [
            "====================\n",
            "Best params: LogisticRegression(C=1e-05, class_weight=None, dual=False, fit_intercept=True,\n",
            "                   intercept_scaling=1, l1_ratio=None, max_iter=100,\n",
            "                   multi_class='auto', n_jobs=None, penalty='l2',\n",
            "                   random_state=None, solver='lbfgs', tol=0.0001, verbose=0,\n",
            "                   warm_start=False)\n",
            "Best params: {'C': 1e-05}\n",
            "Best score: 0.9946170406794806\n",
            "====================\n"
          ],
          "name": "stdout"
        },
        {
          "output_type": "display_data",
          "data": {
            "image/png": "[encoded data removed]",
            "text/plain": [
              "<Figure size 720x360 with 1 Axes>"
            ]
          },
          "metadata": {
            "tags": []
          }
        }
      ]
    },
    {
      "cell_type": "markdown",
      "metadata": {
        "id": "WIV219SFbISa"
      },
      "source": [
        "#### MODELO FINAL: Usando modelo sugerido pelo Grid Search com variáveis selecionadas"
      ],
      "id": "WIV219SFbISa"
    },
    {
      "cell_type": "code",
      "metadata": {
        "id": "Iuc2UDmlgUD9",
        "colab": {
          "base_uri": "https://localhost:8080/"
        },
        "outputId": "098b08b6-8b8a-42b1-94aa-04c431f5ca6c"
      },
      "source": [
        "logReg_GS = LogisticRegression(C=1e-05, class_weight=None, dual=False, fit_intercept=True,\n",
        "                   intercept_scaling=1, l1_ratio=None, max_iter=100,\n",
        "                   multi_class='auto', n_jobs=None, penalty='l2',\n",
        "                   random_state=None, solver='lbfgs', tol=0.0001, verbose=0,\n",
        "                   warm_start=False)\n",
        "\n",
        "scoring = {'accuracy': 'accuracy', 'log_loss': 'neg_log_loss', 'auc': 'roc_auc'}\n",
        "\n",
        "modelo_Final = cross_validate(logReg_GS, xArray_RFE, yArray, cv=10, \n",
        "                         scoring=list(scoring.values()), \n",
        "                         return_train_score=False)\n",
        "\n",
        "print('K-fold cross-validation results:')\n",
        "for sc in range(len(scoring)):\n",
        "    print(\"%s: %.3f (+/-%.3f)\" % (list(scoring.keys())[sc], -modelo_Final['test_%s' % list(scoring.values())[sc]].mean()\n",
        "                               if list(scoring.values())[sc]=='neg_log_loss' \n",
        "                               else modelo_Final['test_%s' % list(scoring.values())[sc]].mean(), \n",
        "                               modelo_Final['test_%s' % list(scoring.values())[sc]].std()))\n"
      ],
      "id": "Iuc2UDmlgUD9",
      "execution_count": null,
      "outputs": [
        {
          "output_type": "stream",
          "text": [
            "K-fold cross-validation results:\n",
            "accuracy: 0.995 (+/-0.000)\n",
            "log_loss: 0.021 (+/-0.000)\n",
            "auc: 0.932 (+/-0.002)\n"
          ],
          "name": "stdout"
        }
      ]
    },
    {
      "cell_type": "markdown",
      "metadata": {
        "id": "gX7khmxcXQIH"
      },
      "source": [
        "#### Curva ROC"
      ],
      "id": "gX7khmxcXQIH"
    },
    {
      "cell_type": "code",
      "metadata": {
        "id": "ezTfn8JnXRge"
      },
      "source": [
        "#https://scikit-learn.org/stable/auto_examples/model_selection/plot_roc_crossval.html\n",
        "X = xArray_RFE.copy()\n",
        "y = yArray.copy()\n",
        "\n",
        "X.reset_index(inplace=True)\n",
        "X.drop(columns={'index'}, inplace=True)\n",
        "\n",
        "y.reset_index(inplace=True)\n",
        "y.drop(columns={'index'}, inplace=True)\n",
        "\n",
        "n_samples, n_features = X.shape\n",
        "\n",
        "# #############################################################################\n",
        "# Classification and ROC analysis\n",
        "\n",
        "# Run classifier with cross-validation and plot ROC curves\n",
        "cv = StratifiedKFold(n_splits=10)\n",
        "classifier = logReg_GS\n",
        "\n",
        "tprs = []\n",
        "aucs = []\n",
        "mean_fpr = np.linspace(0, 1, 100)\n",
        "\n",
        "fig, ax = plt.subplots()\n",
        "fig.set_figwidth(10)\n",
        "fig.set_figheight(10)\n",
        "\n",
        "for i, (train, test) in enumerate(cv.split(X, y)):\n",
        "    classifier.fit(X[X.index.isin(train)], y[y.index.isin(train)])\n",
        "    viz = plot_roc_curve(classifier, X[X.index.isin(test)], y[y.index.isin(test)],\n",
        "                         name='ROC fold {}'.format(i),\n",
        "                         alpha=0.3, lw=1, ax=ax)\n",
        "    interp_tpr = np.interp(mean_fpr, viz.fpr, viz.tpr)\n",
        "    interp_tpr[0] = 0.0\n",
        "    tprs.append(interp_tpr)\n",
        "    aucs.append(viz.roc_auc)\n",
        "\n",
        "ax.plot([0, 1], [0, 1], linestyle='--', lw=2, color='r',\n",
        "        label='Chance', alpha=.8)\n",
        "\n",
        "mean_tpr = np.mean(tprs, axis=0)\n",
        "mean_tpr[-1] = 1.0\n",
        "mean_auc = auc(mean_fpr, mean_tpr)\n",
        "std_auc = np.std(aucs)\n",
        "ax.plot(mean_fpr, mean_tpr, color='b',\n",
        "        label=r'Mean ROC (AUC = %0.2f $\\pm$ %0.2f)' % (mean_auc, std_auc),\n",
        "        lw=2, alpha=.8)\n",
        "\n",
        "std_tpr = np.std(tprs, axis=0)\n",
        "tprs_upper = np.minimum(mean_tpr + std_tpr, 1)\n",
        "tprs_lower = np.maximum(mean_tpr - std_tpr, 0)\n",
        "ax.fill_between(mean_fpr, tprs_lower, tprs_upper, color='grey', alpha=.2,\n",
        "                label=r'$\\pm$ 1 std. dev.')\n",
        "\n",
        "ax.set(xlim=[-0.05, 1.05], ylim=[-0.05, 1.05],\n",
        "       title=\"Receiver operating characteristic example\")\n",
        "ax.legend(loc=\"lower right\")\n",
        "plt.show()\n",
        "\n",
        "plt.savefig('ROC_KFold_Final.png', dpi=300)"
      ],
      "id": "ezTfn8JnXRge",
      "execution_count": null,
      "outputs": []
    },
    {
      "cell_type": "markdown",
      "metadata": {
        "id": "tDj9Kj36WQKs"
      },
      "source": [
        "#### Matriz de confusão"
      ],
      "id": "tDj9Kj36WQKs"
    },
    {
      "cell_type": "code",
      "metadata": {
        "id": "prepared-essex"
      },
      "source": [
        "y_pred = cross_val_predict(logReg_GS, xArray_RFE, yArray, cv=10)\n",
        "acc = modelo_Final['test_accuracy'].mean()\n",
        "my_cm(confusion_matrix(yArray, y_pred), acc)\n",
        "plt.savefig('CM_Final.png', dpi=300)"
      ],
      "id": "prepared-essex",
      "execution_count": null,
      "outputs": []
    },
    {
      "cell_type": "markdown",
      "metadata": {
        "id": "6c5LTkuOXVZJ"
      },
      "source": [
        "#### Relatório de Classificação"
      ],
      "id": "6c5LTkuOXVZJ"
    },
    {
      "cell_type": "code",
      "metadata": {
        "id": "eEfCQVpuXXZ_"
      },
      "source": [
        "print(classification_report(yArray, y_pred))\n",
        "report = classification_report(yArray, y_pred, output_dict=True)\n",
        "round(pd.DataFrame(report).transpose(),2).to_csv('ClassRep_Final.csv')"
      ],
      "id": "eEfCQVpuXXZ_",
      "execution_count": null,
      "outputs": []
    }
  ]
}